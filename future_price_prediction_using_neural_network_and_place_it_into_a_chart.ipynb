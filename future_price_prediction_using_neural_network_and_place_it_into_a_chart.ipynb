{
  "cells": [
    {
      "cell_type": "markdown",
      "metadata": {
        "id": "view-in-github",
        "colab_type": "text"
      },
      "source": [
        "<a href=\"https://colab.research.google.com/github/theouterlimitz/stockpricepredictor/blob/main/future_price_prediction_using_neural_network_and_place_it_into_a_chart.ipynb\" target=\"_parent\"><img src=\"https://colab.research.google.com/assets/colab-badge.svg\" alt=\"Open In Colab\"/></a>"
      ]
    },
    {
      "cell_type": "markdown",
      "metadata": {
        "id": "M8IVFECz17n0"
      },
      "source": []
    },
    {
      "cell_type": "code",
      "execution_count": null,
      "metadata": {
        "id": "K1QX3xc517n2"
      },
      "outputs": [],
      "source": [
        "import yfinance as yf\n",
        "import pandas as pd\n",
        "import numpy as np\n",
        "from tensorflow.keras.models import Sequential\n",
        "from tensorflow.keras.layers import LSTM, Dense\n",
        "from sklearn.preprocessing import MinMaxScaler\n",
        "import matplotlib.pyplot as plt\n",
        "\n",
        "# Download historical stock data\n",
        "ticker = \"TSLA\"\n",
        "start_date = \"2020-01-01\"\n",
        "end_date = \"2024-02-05\"\n",
        "data = yf.download(ticker, start=start_date, end=end_date)\n",
        "\n",
        "# Preprocess data for LSTM\n",
        "def prepare_data(data, window_size, train_pct=0.8):\n",
        "    prices = data[\"Close\"]\n",
        "    num_train = int(len(prices) * train_pct)\n",
        "    train, test = prices[:num_train], prices[num_train:]\n",
        "\n",
        "    # Create sequences for LSTM\n",
        "    def create_sequences(data, seq_length):\n",
        "        sequences = []\n",
        "        for i in range(len(data) - seq_length):\n",
        "            sequences.append(data[i:i + seq_length])\n",
        "        return np.array(sequences)\n",
        "\n",
        "    # Scale data\n",
        "    scaler = MinMaxScaler(feature_range=(0, 1))\n",
        "    train_scaled = scaler.fit_transform(train.values.reshape(-1, 1))\n",
        "    test_scaled = scaler.transform(test.values.reshape(-1, 1))\n",
        "\n",
        "    # Create sequences\n",
        "    train_sequences = create_sequences(train_scaled, window_size)\n",
        "    test_sequences = create_sequences(test_scaled, window_size)\n",
        "\n",
        "    return train_sequences, test_sequences, scaler\n",
        "\n",
        "window_size = 32\n",
        "train_sequences, test_sequences, scaler = prepare_data(data, window_size)\n",
        "\n",
        "# Build LSTM model\n",
        "model = Sequential()\n",
        "model.add(LSTM(100, return_sequences=True, input_shape=(window_size, 1)))\n",
        "model.add(LSTM(100))\n",
        "model.add(Dense(3))\n",
        "model.add(Dense(1))\n",
        "model.add(Dense(3))\n",
        "model.add(Dense(1))\n",
        "model.compile(loss=\"mae\", optimizer=\"adam\")\n",
        "\n",
        "# Train model\n",
        "model.fit(train_sequences, train_sequences[:, -1], epochs=100, batch_size=16)\n",
        "\n",
        "# Make predictions on test data\n",
        "predicted_prices = []\n",
        "for seq in test_sequences:\n",
        "    predicted_price = model.predict(seq.reshape(1, seq.shape[0], 1))[0][0]\n",
        "    predicted_prices.append(scaler.inverse_transform([[predicted_price]])[0][0])\n",
        "\n",
        "# Make predictions on future data\n",
        "future_dates = pd.date_range(data.index[-1] + pd.DateOffset(1), periods=45)  # 30 days into the future\n",
        "future_prices = []\n",
        "last_window = test_sequences[-1]  # Use the last window from test data as input for future predictions\n",
        "for i in range(len(future_dates)):\n",
        "    predicted_price = model.predict(last_window.reshape(1, window_size, 1))[0][0]\n",
        "    future_prices.append(scaler.inverse_transform([[predicted_price]])[0][0])\n",
        "    last_window = np.append(last_window[1:], predicted_price)  # Update the window for the next prediction\n",
        "\n",
        "# Visualize results\n",
        "plt.figure(figsize=(12, 6))\n",
        "plt.plot(data.index, data[\"Close\"], label=\"Actual\")\n",
        "plt.plot(data.index[-len(predicted_prices):], predicted_prices, label=\"Predicted (Test Data)\")\n",
        "plt.plot(future_dates, future_prices, label=\"Predicted (Future)\")\n",
        "plt.title(\"TLSA Stock Price Prediction\")\n",
        "plt.xlabel(\"Date\")\n",
        "plt.ylabel(\"Price\")\n",
        "plt.legend()\n",
        "plt.show()"
      ]
    },
    {
      "cell_type": "markdown",
      "metadata": {
        "id": "08GOqoMO17n4"
      },
      "source": [
        "**Key Changes:**\n",
        "\n",
        "- **Future data prediction:** Added code to generate predictions for 30 days into the future, using the last window from the test data as the initial input.\n",
        "- **Visualization:** Included"
      ]
    }
  ],
  "metadata": {
    "colab": {
      "provenance": [],
      "include_colab_link": true
    },
    "kernelspec": {
      "display_name": "Python 3",
      "name": "python3"
    }
  },
  "nbformat": 4,
  "nbformat_minor": 0
}